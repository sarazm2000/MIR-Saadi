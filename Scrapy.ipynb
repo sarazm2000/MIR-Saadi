{
 "cells": [
  {
   "cell_type": "code",
   "execution_count": null,
   "id": "2157969e",
   "metadata": {},
   "outputs": [],
   "source": [
    "!pip install bs4\n",
    "!pip install pands"
   ]
  },
  {
   "cell_type": "code",
   "execution_count": 1,
   "id": "28587bcb",
   "metadata": {},
   "outputs": [],
   "source": [
    "from bs4 import BeautifulSoup\n",
    "import requests\n",
    "import pandas as pd\n",
    "import re"
   ]
  },
  {
   "cell_type": "code",
   "execution_count": 2,
   "id": "02a701ae",
   "metadata": {},
   "outputs": [],
   "source": [
    "boostan_url = \"https://ganjoor.net/saadi/boostan\"\n",
    "golestan_url = \"https://ganjoor.net/saadi/golestan\""
   ]
  },
  {
   "cell_type": "markdown",
   "id": "02227c06",
   "metadata": {},
   "source": [
    "request to boostan"
   ]
  },
  {
   "cell_type": "code",
   "execution_count": 3,
   "id": "52cdd201",
   "metadata": {},
   "outputs": [
    {
     "data": {
      "text/plain": [
       "<Response [200]>"
      ]
     },
     "execution_count": 3,
     "metadata": {},
     "output_type": "execute_result"
    }
   ],
   "source": [
    "boostan_response = requests.get(boostan_url)\n",
    "boostan_response"
   ]
  },
  {
   "cell_type": "markdown",
   "id": "73ce4164",
   "metadata": {},
   "source": [
    "request to golestan"
   ]
  },
  {
   "cell_type": "code",
   "execution_count": 4,
   "id": "5f1277e2",
   "metadata": {},
   "outputs": [
    {
     "data": {
      "text/plain": [
       "<Response [200]>"
      ]
     },
     "execution_count": 4,
     "metadata": {},
     "output_type": "execute_result"
    }
   ],
   "source": [
    "golestan_response = requests.get(golestan_url)\n",
    "golestan_response"
   ]
  },
  {
   "cell_type": "markdown",
   "id": "4344b79f",
   "metadata": {},
   "source": [
    "extract boostan links"
   ]
  },
  {
   "cell_type": "code",
   "execution_count": 5,
   "id": "251ba081",
   "metadata": {},
   "outputs": [],
   "source": [
    "boostan_page = BeautifulSoup(boostan_response.content, \"html.parser\")\n",
    "boostan_links = boostan_page.find_all('a', {'href': re.compile(r'/saadi/boostan/')})\n",
    "\n",
    "# print(boostan_links)"
   ]
  },
  {
   "cell_type": "markdown",
   "id": "d1734939",
   "metadata": {},
   "source": [
    "extract golestan links"
   ]
  },
  {
   "cell_type": "code",
   "execution_count": 6,
   "id": "a1d241ee",
   "metadata": {},
   "outputs": [
    {
     "name": "stdout",
     "output_type": "stream",
     "text": [
      "[<a href=\"/saadi/golestan/dibache\">دیباچه</a>, <a href=\"/saadi/golestan/gbab1\">باب اول در سیرت پادشاهان</a>, <a href=\"/saadi/golestan/gbab2\">باب دوم در اخلاق درویشان</a>, <a href=\"/saadi/golestan/gbab3\">باب سوم در فضیلت قناعت</a>, <a href=\"/saadi/golestan/gbab4\">باب چهارم در فواید خاموشی</a>, <a href=\"/saadi/golestan/gbab5\">باب پنجم در عشق و جوانی</a>, <a href=\"/saadi/golestan/gbab6\">باب ششم در ضعف و پیری</a>, <a href=\"/saadi/golestan/gbab7\">باب هفتم در تأثیر تربیت</a>, <a href=\"/saadi/golestan/gbab8\">باب هشتم در آداب صحبت</a>]\n"
     ]
    }
   ],
   "source": [
    "golestan_page = BeautifulSoup(golestan_response.content, \"html.parser\")\n",
    "golestan_links = golestan_page.find_all('a', {'href': re.compile(r'/saadi/golestan/')})\n",
    "\n",
    "print(golestan_links)"
   ]
  },
  {
   "cell_type": "markdown",
   "id": "6741e19d",
   "metadata": {},
   "source": [
    "clean the arrays and just exist link"
   ]
  },
  {
   "cell_type": "code",
   "execution_count": 7,
   "id": "ed2acce2",
   "metadata": {},
   "outputs": [],
   "source": [
    "pre_url = \"https://ganjoor.net/\""
   ]
  },
  {
   "cell_type": "markdown",
   "id": "2a6aa598",
   "metadata": {},
   "source": [
    "## Start Golestan crawling"
   ]
  },
  {
   "cell_type": "code",
   "execution_count": 8,
   "id": "d4aad5c1",
   "metadata": {},
   "outputs": [
    {
     "data": {
      "text/plain": [
       "['https://ganjoor.net//saadi/golestan/dibache',\n",
       " 'https://ganjoor.net//saadi/golestan/gbab1',\n",
       " 'https://ganjoor.net//saadi/golestan/gbab2',\n",
       " 'https://ganjoor.net//saadi/golestan/gbab3',\n",
       " 'https://ganjoor.net//saadi/golestan/gbab4',\n",
       " 'https://ganjoor.net//saadi/golestan/gbab5',\n",
       " 'https://ganjoor.net//saadi/golestan/gbab6',\n",
       " 'https://ganjoor.net//saadi/golestan/gbab7',\n",
       " 'https://ganjoor.net//saadi/golestan/gbab8']"
      ]
     },
     "execution_count": 8,
     "metadata": {},
     "output_type": "execute_result"
    }
   ],
   "source": [
    "golestan_list_urls = []\n",
    "\n",
    "for link in golestan_links:\n",
    "    link = pre_url + link['href']\n",
    "    golestan_list_urls.append(link)\n",
    "\n",
    "golestan_list_urls"
   ]
  },
  {
   "cell_type": "code",
   "execution_count": 81,
   "id": "7501be55",
   "metadata": {},
   "outputs": [
    {
     "data": {
      "text/plain": [
       "['dibache',\n",
       " 'gbab1',\n",
       " 'gbab2',\n",
       " 'gbab3',\n",
       " 'gbab4',\n",
       " 'gbab5',\n",
       " 'gbab6',\n",
       " 'gbab7',\n",
       " 'gbab8']"
      ]
     },
     "execution_count": 81,
     "metadata": {},
     "output_type": "execute_result"
    }
   ],
   "source": [
    "golestan_sec_names = []\n",
    "y = len(golestan_list_urls)\n",
    "y\n",
    "\n",
    "for x in range(y):\n",
    "    golestan_sec_names.append(golestan_list_urls[x].split(\"/\")[6])\n",
    "\n",
    "golestan_sec_names\n"
   ]
  },
  {
   "cell_type": "markdown",
   "id": "caaf22e1",
   "metadata": {},
   "source": [
    "determine the path for golestan"
   ]
  },
  {
   "cell_type": "code",
   "execution_count": 82,
   "id": "96dae4b0",
   "metadata": {},
   "outputs": [],
   "source": [
    "path_dir = \"E:\\\\Data\\Golestan\"\n",
    "path = path_dir + \"\\\\\" + golestan_sec_names[0] + \".txt\""
   ]
  },
  {
   "cell_type": "markdown",
   "id": "03a10ea7",
   "metadata": {},
   "source": [
    "get Dibache content"
   ]
  },
  {
   "cell_type": "code",
   "execution_count": 83,
   "id": "5067056b",
   "metadata": {},
   "outputs": [],
   "source": [
    "url = golestan_list_urls[0];\n",
    "res = requests.get(url)\n",
    "\n",
    "content = BeautifulSoup(res.content, \"html.parser\").find('article').find_all('p')\n",
    "\n",
    "content_to_str = []\n",
    "for c in content:\n",
    "    content_to_str.append(str(c))\n",
    "\n",
    "poems = []\n",
    "for x in range(len(content_to_str)):\n",
    "    poems.append(content_to_str[x].replace(\"<p>\", \"\").replace(\"</p>\" ,\"\"))\n",
    "\n"
   ]
  },
  {
   "cell_type": "markdown",
   "id": "02c31613",
   "metadata": {},
   "source": [
    "Save Dibache to file"
   ]
  },
  {
   "cell_type": "code",
   "execution_count": 89,
   "id": "8be744f0",
   "metadata": {},
   "outputs": [],
   "source": [
    "f = open(path , \"x\", encoding=\"utf-8\")\n",
    "for p in poems:\n",
    "    f.write(p)\n",
    "    f.write('\\n')\n",
    "\n",
    "f.close()"
   ]
  },
  {
   "cell_type": "markdown",
   "id": "e5fe1d89",
   "metadata": {},
   "source": [
    "crawl golestan "
   ]
  },
  {
   "cell_type": "code",
   "execution_count": 86,
   "id": "f07c17d9",
   "metadata": {},
   "outputs": [],
   "source": [
    "for i in range(len(golestan_list_urls)):\n",
    "    url = golestan_list_urls[i]\n",
    "    res = requests.get(url)\n",
    "    rgx = '/saadi/golestan/' + golestan_sec_names[i] + '/sh'\n",
    "    content = BeautifulSoup(res.content, \"html.parser\").find('article').find_all('a', {'href': re.compile(rgx)})\n",
    "\n",
    "    poem_links = []\n",
    "    for link in content:\n",
    "        link = pre_url + link['href']\n",
    "        poem_links.append(link)\n",
    "    count_name = 0\n",
    "    for link in range(len(poem_links)):\n",
    "        count_name = count_name + 1\n",
    "        name = \"E:\\\\Data\\Golestan\\\\\"+ golestan_sec_names[i] +\"sh\" + str(count_name) + \".txt\"\n",
    "        url = poem_links[link]\n",
    "        res = requests.get(url)\n",
    "        content = BeautifulSoup(res.content, \"html.parser\").find('article').find_all('p')\n",
    "\n",
    "        content_to_str = []\n",
    "        for c in content:\n",
    "            content_to_str.append(str(c).replace(\"<p>\", \"\").replace(\"</p>\" ,\"\"))\n",
    "\n",
    "            f = open(name , \"x\", encoding=\"utf-8\")\n",
    "            for cts in content_to_str:\n",
    "                f.write(cts)\n",
    "                f.write('\\n')\n",
    "            f.close() \n",
    "\n"
   ]
  },
  {
   "cell_type": "markdown",
   "id": "71ccaca0",
   "metadata": {},
   "source": [
    "for test"
   ]
  },
  {
   "cell_type": "code",
   "execution_count": 61,
   "id": "f9191864",
   "metadata": {},
   "outputs": [],
   "source": [
    "count_name = 0\n",
    "for link in range(len(poem_links)):\n",
    "    count_name = count_name + 1\n",
    "    name = \"E:\\\\Data\\Golestan\\\\sh\" + str(count_name) + \".txt\"\n",
    "    url = poem_links[link]\n",
    "    res = requests.get(url)\n",
    "    content = BeautifulSoup(res.content, \"html.parser\").find('article').find_all('p')\n",
    "\n",
    "    content_to_str = []\n",
    "    for c in content:\n",
    "        content_to_str.append(str(c).replace(\"<p>\", \"\").replace(\"</p>\" ,\"\"))\n",
    "\n",
    "        f = open(name , \"w\", encoding=\"utf-8\")\n",
    "        for cts in content_to_str:\n",
    "            f.write(cts)\n",
    "            f.write('\\n')\n",
    "        f.close() \n"
   ]
  },
  {
   "cell_type": "markdown",
   "id": "4b152b69",
   "metadata": {},
   "source": [
    "## start Boostan crawling"
   ]
  },
  {
   "cell_type": "code",
   "execution_count": 87,
   "id": "2455cb2a",
   "metadata": {},
   "outputs": [
    {
     "data": {
      "text/plain": [
       "['https://ganjoor.net//saadi/boostan/niyayesh',\n",
       " 'https://ganjoor.net//saadi/boostan/bab1',\n",
       " 'https://ganjoor.net//saadi/boostan/bab2',\n",
       " 'https://ganjoor.net//saadi/boostan/bab3',\n",
       " 'https://ganjoor.net//saadi/boostan/bab4',\n",
       " 'https://ganjoor.net//saadi/boostan/bab5',\n",
       " 'https://ganjoor.net//saadi/boostan/bab6',\n",
       " 'https://ganjoor.net//saadi/boostan/bab7',\n",
       " 'https://ganjoor.net//saadi/boostan/bab8',\n",
       " 'https://ganjoor.net//saadi/boostan/bab9',\n",
       " 'https://ganjoor.net//saadi/boostan/bab10']"
      ]
     },
     "execution_count": 87,
     "metadata": {},
     "output_type": "execute_result"
    }
   ],
   "source": [
    "boostan_list_urls = []\n",
    "\n",
    "for link in boostan_links:\n",
    "    link = pre_url + link['href']\n",
    "    boostan_list_urls.append(link)\n",
    "\n",
    "boostan_list_urls"
   ]
  },
  {
   "cell_type": "code",
   "execution_count": 95,
   "metadata": {},
   "outputs": [
    {
     "data": {
      "text/plain": [
       "['niyayesh',\n",
       " 'bab1',\n",
       " 'bab2',\n",
       " 'bab3',\n",
       " 'bab4',\n",
       " 'bab5',\n",
       " 'bab6',\n",
       " 'bab7',\n",
       " 'bab8',\n",
       " 'bab9',\n",
       " 'bab10']"
      ]
     },
     "execution_count": 95,
     "metadata": {},
     "output_type": "execute_result"
    }
   ],
   "source": [
    "boostan_sec_names = []\n",
    "y = len(boostan_list_urls)\n",
    "\n",
    "\n",
    "\n",
    "for x in range(y):\n",
    "    boostan_sec_names.append(boostan_list_urls[x].split(\"/\")[6])\n",
    "\n",
    "boostan_sec_names"
   ]
  },
  {
   "cell_type": "code",
   "execution_count": 96,
   "id": "1aad3d58",
   "metadata": {},
   "outputs": [
    {
     "data": {
      "text/plain": [
       "[<p class=\"poem-excerpt\" data-value=\"بخش ۱ - سرآغاز : به نام خداوندِ جان‌آفرین\"><a href=\"/saadi/boostan/niyayesh/sh1\">بخش ۱ - سرآغاز</a>: به نام خداوندِ جان‌آفرین</p>,\n",
       " <p class=\"poem-excerpt\" data-value=\"بخش ۲ - فی نعت سید المرسلین علیه الصلوة و السلام : کریم السجایا جمیل الشیم\"><a href=\"/saadi/boostan/niyayesh/sh2\">بخش ۲ - فی نعت سید المرسلین علیه الصلوة و السلام</a>: کریم السجایا جمیل الشیم</p>,\n",
       " <p class=\"poem-excerpt\" data-value=\"بخش ۳ - سبب نظم کتاب : در اقصای عالم بگشتم بسی\"><a href=\"/saadi/boostan/niyayesh/sh3\">بخش ۳ - سبب نظم کتاب</a>: در اقصای عالم بگشتم بسی</p>,\n",
       " <p class=\"poem-excerpt\" data-value=\"بخش ۴ - مدح ابوبکر بن سعد بن زنگی : مرا طبع از این نوع خواهان نبود\"><a href=\"/saadi/boostan/niyayesh/sh4\">بخش ۴ - مدح ابوبکر بن سعد بن زنگی</a>: مرا طبع از این نوع خواهان نبود</p>,\n",
       " <p class=\"poem-excerpt\" data-value=\"بخش ۵ - مدح محمد بن سعد بن ابوبکر : اتابک محمد شه نیکبخت\"><a href=\"/saadi/boostan/niyayesh/sh5\">بخش ۵ - مدح محمد بن سعد بن ابوبکر</a>: اتابک محمد شه نیکبخت</p>,\n",
       " <p class=\"poem-excerpt\" data-value=\"بخش ۶ - حکایت : حکایت کنند از بزرگان دین\"><a href=\"/saadi/boostan/niyayesh/sh6\">بخش ۶ - حکایت</a>: حکایت کنند از بزرگان دین</p>]"
      ]
     },
     "execution_count": 96,
     "metadata": {},
     "output_type": "execute_result"
    }
   ],
   "source": [
    "url = boostan_list_urls[0]\n",
    "res = requests.get(url)\n",
    "rgx = '/saadi/boostan/' + golestan_sec_names[0] + '/sh'\n",
    "content = BeautifulSoup(res.content, \"html.parser\").find('article').find_all('p')\n",
    "content"
   ]
  },
  {
   "cell_type": "code",
   "execution_count": 118,
   "id": "4a2d4269",
   "metadata": {},
   "outputs": [],
   "source": [
    "for i in range(len(boostan_list_urls)):\n",
    "    url = boostan_list_urls[i]\n",
    "    res = requests.get(url)\n",
    "    rgx = '/saadi/boostan/' + boostan_sec_names[i] + '/sh'\n",
    "    content = BeautifulSoup(res.content, \"html.parser\").find('article').find_all('a', {'href': re.compile(rgx)})\n",
    "\n",
    "    poem_links = []\n",
    "    for link in content:\n",
    "        link = pre_url + link['href']\n",
    "        poem_links.append(link)\n",
    "    count_name = 0\n",
    "    for link in range(len(poem_links)):\n",
    "        count_name = count_name + 1\n",
    "        name = \"E:\\\\Data\\Boostan\\\\\"+boostan_sec_names[i] +\"sh\" + str(count_name) + \".txt\"\n",
    "        url = poem_links[link]\n",
    "        res = requests.get(url)\n",
    "        content = BeautifulSoup(res.content, \"html.parser\").find('article').find_all('p')\n",
    "\n",
    "        content_to_str = []\n",
    "        for c in content:\n",
    "            content_to_str.append(str(c).replace(\"<p>\", \"\").replace(\"</p>\" ,\"\"))\n",
    "\n",
    "            f = open(name , \"w\", encoding=\"utf-8\")\n",
    "            for cts in content_to_str:\n",
    "                f.write(cts)\n",
    "                f.write('\\n')\n",
    "            f.close() \n"
   ]
  },
  {
   "cell_type": "markdown",
   "id": "2136870f",
   "metadata": {},
   "source": [
    "test"
   ]
  },
  {
   "cell_type": "code",
   "execution_count": 116,
   "id": "9c77a8e4",
   "metadata": {},
   "outputs": [
    {
     "name": "stdout",
     "output_type": "stream",
     "text": [
      "[<a href=\"/saadi/boostan/niyayesh\">در نیایش خداوند</a>, <a href=\"/saadi/boostan/niyayesh/sh1\">بخش ۱ - سرآغاز</a>, <a href=\"/saadi/boostan/niyayesh/sh2\">بخش ۲ - فی نعت سید المرسلین علیه الصلوة و السلام</a>, <a href=\"/saadi/boostan/niyayesh/sh3\">بخش ۳ - سبب نظم کتاب</a>, <a href=\"/saadi/boostan/niyayesh/sh4\">بخش ۴ - مدح ابوبکر بن سعد بن زنگی</a>, <a href=\"/saadi/boostan/niyayesh/sh5\">بخش ۵ - مدح محمد بن سعد بن ابوبکر</a>, <a href=\"/saadi/boostan/niyayesh/sh6\">بخش ۶ - حکایت</a>]\n"
     ]
    }
   ],
   "source": [
    "url = boostan_list_urls[0]\n",
    "res = requests.get(url)\n",
    "rgx = '/saadi/boostan/'+boostan_sec_names[0]\n",
    "\n",
    "content = BeautifulSoup(res.content, \"html.parser\").find_all('a', {'href': re.compile(rgx)})\n",
    "# .find('article').find_all('a', {'href': re.compile(rgx)})\n",
    "print(content)\n",
    "\n",
    "# poem_links = []\n",
    "# for link in content:\n",
    "#     link = pre_url + link['href']\n",
    "#     poem_links.append(link)\n",
    "# count_name = 0\n",
    "# for link in range(len(poem_links)):\n",
    "#     print(link)\n",
    "#     count_name = count_name + 1\n",
    "#     name = \"E:\\\\Data\\Boostan\\\\\"+boostan_sec_names[i] +\"sh\" + str(count_name) + \".txt\"\n",
    "#     url = poem_links[link]\n",
    "#     res = requests.get(url)\n",
    "#     content = BeautifulSoup(res.content, \"html.parser\").find('article').find_all('p')\n",
    "\n",
    "#     content_to_str = []\n",
    "#     for c in content:\n",
    "#         content_to_str.append(str(c).replace(\"<p>\", \"\").replace(\"</p>\" ,\"\"))\n",
    "\n",
    "#         f = open(name , \"x\", encoding=\"utf-8\")\n",
    "#         for cts in content_to_str:\n",
    "#             f.write(cts)\n",
    "#             f.write('\\n')\n",
    "#         f.close() \n",
    "\n"
   ]
  }
 ],
 "metadata": {
  "interpreter": {
   "hash": "f08154012ddadd8e950e6e9e035c7a7b32c136e7647e9b7c77e02eb723a8bedb"
  },
  "kernelspec": {
   "display_name": "Python 3.8.8 ('base')",
   "language": "python",
   "name": "python3"
  },
  "language_info": {
   "codemirror_mode": {
    "name": "ipython",
    "version": 3
   },
   "file_extension": ".py",
   "mimetype": "text/x-python",
   "name": "python",
   "nbconvert_exporter": "python",
   "pygments_lexer": "ipython3",
   "version": "3.8.8"
  }
 },
 "nbformat": 4,
 "nbformat_minor": 5
}
