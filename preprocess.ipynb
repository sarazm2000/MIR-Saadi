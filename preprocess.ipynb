{
 "cells": [
  {
   "cell_type": "code",
   "execution_count": null,
   "metadata": {},
   "outputs": [],
   "source": [
    "!pip install nltk\n",
    "!pip install hazm\n",
    "!pip install future\n",
    "!pip install bs4"
   ]
  },
  {
   "cell_type": "code",
   "execution_count": null,
   "metadata": {},
   "outputs": [],
   "source": [
    "from __future__ import unicode_literals\n",
    "from hazm import *\n",
    "from bs4 import BeautifulSoup\n",
    "import sys\n",
    "import codecs\n",
    "import tqdm\n",
    "import re\n",
    "import codecs\n",
    "import numpy as np\n",
    "from __future__ import unicode_literals\n",
    "import random\n",
    "import os, os.path"
   ]
  },
  {
   "cell_type": "markdown",
   "metadata": {},
   "source": [
    "Get number of files"
   ]
  },
  {
   "cell_type": "code",
   "execution_count": null,
   "metadata": {},
   "outputs": [],
   "source": [
    "boostanPath = \"./Boostan\"\n",
    "golestanPath = \"./Golestan\"\n",
    "NumOfBoostanFiles = len([name for name in os.listdir(boostanPath)])\n",
    "NumOfGolestanFiles = len([name for name in os.listdir(golestanPath)])\n",
    "NumOfBoostanFiles"
   ]
  },
  {
   "cell_type": "code",
   "execution_count": null,
   "metadata": {},
   "outputs": [],
   "source": [
    "print(os.getcwd()) \n",
    "boostan_folder_path = \".\"\n",
    "\n",
    "\n",
    "boostan_file_name = []\n",
    "golestan_file_name = []\n",
    "\n",
    "os.chdir(boostan_folder_path)\n",
    "for filename in os.listdir(boostan_folder_path):\n",
    "    if os.path.isfile(filename):\n",
    "        boostan_file_name.append(filename)\n",
    "\n",
    "os.chdir(\"..\")\n",
    "boostan_file_name\n"
   ]
  },
  {
   "cell_type": "code",
   "execution_count": null,
   "metadata": {},
   "outputs": [],
   "source": [
    "print(os.getcwd())  \n",
    "golestan_folder_path = \"./Golestan\"\n",
    "os.chdir(golestan_folder_path)\n",
    "print(len(os.listdir()))\n",
    "for filename in os.listdir():\n",
    "    if os.path.isfile(filename):\n",
    "        golestan_file_name.append(filename)\n",
    "os.chdir(\"..\")\n",
    "golestan_file_name"
   ]
  },
  {
   "cell_type": "markdown",
   "metadata": {},
   "source": [
    "make array for golestan"
   ]
  },
  {
   "cell_type": "code",
   "execution_count": 33,
   "metadata": {},
   "outputs": [
    {
     "data": {
      "text/plain": [
       "['بِسم اللهِ الرَّحمنِ الرَّحیم',\n",
       " 'منّت خدای را عز و جل که طاعتش موجب قربت است و به شکر اندرش مزید نعمت. هر نفسی که فرو می رود ممدّ حیات است و چون بر می آید مفرّح ذات. پس در هر نفسی دو نعمت موجود است و بر هر نعمتی شکری واجب.',\n",
       " 'از دست و زبان که بر آید',\n",
       " 'کز عهدهٔ شکرش به در آید',\n",
       " 'اِعملوا آلَ داودَ شکراً وَ قلیلٌ مِن عبادیَ الشکور',\n",
       " 'بنده همان به که ز تقصیر خویش',\n",
       " 'عذر به درگاه خدای آورد',\n",
       " 'ور نه سزاوار خداوندیش',\n",
       " 'کس نتواند که به جای آورد',\n",
       " 'باران رحمت بی حسابش همه را رسیده و خوان نعمت بی دریغش همه جا کشیده. پردهٔ ناموس بندگان به گناه فاحش ندرد و وظیفهٔ روزی به خطای منکر نبرد.']"
      ]
     },
     "execution_count": 33,
     "metadata": {},
     "output_type": "execute_result"
    }
   ],
   "source": [
    "golestan = ''\n",
    "\n",
    "for file in golestan_file_name:\n",
    "    f = open(\"./Golestan/\"+file, \"r\", encoding=\"utf-8\")\n",
    "    text = f.read()\n",
    "    golestan += text\n",
    "    golestan += \"\\n\"\n",
    "\n",
    "golestan_poems = golestan.split(\"\\n\")\n",
    "golestan_poems[0:10]"
   ]
  },
  {
   "cell_type": "markdown",
   "metadata": {},
   "source": [
    "make array for boostan"
   ]
  },
  {
   "cell_type": "code",
   "execution_count": 34,
   "metadata": {},
   "outputs": [
    {
     "data": {
      "text/plain": [
       "['بیا تا برآریم دستی ز دل',\n",
       " 'که نتوان برآورد فردا ز گل',\n",
       " 'به فصل خزان در نبینی درخت',\n",
       " 'که بی برگ ماند ز سرمای سخت',\n",
       " 'برآرد تهی دستهای نیاز',\n",
       " 'ز رحمت نگردد تهیدست باز',\n",
       " 'مپندار از آن در که هرگز نبست',\n",
       " 'که نومید گردد بر آورده دست',\n",
       " 'قضا خلعتی نامدارش دهد',\n",
       " 'قدر میوه در آستینش نهد']"
      ]
     },
     "execution_count": 34,
     "metadata": {},
     "output_type": "execute_result"
    }
   ],
   "source": [
    "boostan = ''\n",
    "\n",
    "for file in boostan_file_name:\n",
    "    fi = open(\"./Boostan/\"+file, \"r\", encoding=\"utf-8\")\n",
    "    text = fi.read()\n",
    "    boostan += text\n",
    "    boostan += \"\\n\"\n",
    "\n",
    "boostan_poems = boostan.split(\"\\n\")\n",
    "boostan_poems[0:10]\n"
   ]
  },
  {
   "cell_type": "markdown",
   "metadata": {},
   "source": [
    "# start preprocessing Boostan"
   ]
  },
  {
   "cell_type": "markdown",
   "metadata": {},
   "source": [
    "normalize boostan"
   ]
  },
  {
   "cell_type": "code",
   "execution_count": 35,
   "metadata": {},
   "outputs": [
    {
     "data": {
      "text/plain": [
       "['بیا تا برآریم دستی ز دل',\n",
       " 'که نتوان برآورد فردا ز گل',\n",
       " 'به فصل خزان در نبینی درخت',\n",
       " 'که بی برگ ماند ز سرمای سخت',\n",
       " 'برآرد تهی دستهای نیاز',\n",
       " 'ز رحمت نگردد تهیدست باز',\n",
       " 'مپندار از آن در که هرگز نبست',\n",
       " 'که نومید گردد بر آورده دست',\n",
       " 'قضا خلعتی نامدارش دهد',\n",
       " 'قدر میوه در آستینش نهد']"
      ]
     },
     "execution_count": 35,
     "metadata": {},
     "output_type": "execute_result"
    }
   ],
   "source": [
    "normalizer = Normalizer()\n",
    "normalized_boostan_poems = []\n",
    "for p in boostan_poems:\n",
    "    normalized_boostan_poems.append(normalizer.normalize(p))\n",
    "normalized_boostan_poems[0:10]"
   ]
  },
  {
   "cell_type": "markdown",
   "metadata": {},
   "source": [
    "lemmatize and remove stopwords boostan"
   ]
  },
  {
   "cell_type": "code",
   "execution_count": 57,
   "metadata": {},
   "outputs": [
    {
     "name": "stdout",
     "output_type": "stream",
     "text": [
      "['آمد#آ برآریم دست دل', 'توانست#توان برآورد فردا گل', 'فصل خزان دید#بین درخت', 'برگ ماند#مان سرما سخت', 'برآرد تهی دست', 'رحمت گشت#گرد تهیدست', 'مپندار هرگز بست#بند', 'نومید آورده دست', 'قضا خلعت نامدار', 'قدر میوه آستین نهد']\n",
      "[['آمد#آ', 'برآریم', 'دست', 'دل'], ['توانست#توان', 'برآورد', 'فردا', 'گل'], ['فصل', 'خزان', 'دید#بین', 'درخت'], ['برگ', 'ماند#مان', 'سرما', 'سخت'], ['برآرد', 'تهی', 'دست'], ['رحمت', 'گشت#گرد', 'تهیدست'], ['مپندار', 'هرگز', 'بست#بند'], ['نومید', 'آورده', 'دست'], ['قضا', 'خلعت', 'نامدار'], ['قدر', 'میوه', 'آستین', 'نهد']]\n"
     ]
    }
   ],
   "source": [
    "lemmatizer = Lemmatizer()\n",
    "lemmatize_boostan_poems = []\n",
    "all_cleaned_tokens = []\n",
    "stopwords = [normalizer.normalize(x.strip()) for x in stopwords_list()]+[\"-\", \"/\", \"ز\", '\\ufeff', \"]\", \"[\", \"?\", \"؟\"]\n",
    "\n",
    "mesra_boostan = []\n",
    "mesra_boostan_tokenized = []\n",
    "\n",
    "for p in normalized_boostan_poems:\n",
    "    all_tokens =  word_tokenize(p)\n",
    "    all_tokens_nonstop = [t for t in (all_tokens) if t not in stopwords]\n",
    "    all_tokens_nonstop = [t for t in (all_tokens_nonstop) if len(t)>1]\n",
    "\n",
    "    all_tokens_lemm = []\n",
    "    for i in all_tokens_nonstop:\n",
    "        all_tokens_lemm.append(lemmatizer.lemmatize(i))\n",
    "    \n",
    "    mesra_boostan.append(' '.join(all_tokens_lemm))\n",
    "    # print(all_tokens_nonstop[0])\n",
    "    mesra_boostan_tokenized.append(all_tokens_lemm)\n",
    "\n",
    "print(mesra_boostan[0:10])\n",
    "print(mesra_boostan_tokenized[0:10])\n"
   ]
  },
  {
   "cell_type": "markdown",
   "metadata": {},
   "source": [
    "# start preprocessing Golestan"
   ]
  },
  {
   "cell_type": "markdown",
   "metadata": {},
   "source": [
    "normalize golestan"
   ]
  },
  {
   "cell_type": "code",
   "execution_count": 59,
   "metadata": {},
   "outputs": [
    {
     "data": {
      "text/plain": [
       "['بسم الله الرحمن الرحیم',\n",
       " 'منت خدای را عز و جل که طاعتش موجب قربت است و به شکر اندرش مزید نعمت. هر نفسی که فرو می\\u200cرود ممد حیات است و چون بر می\\u200cآید مفرح ذات. پس در هر نفسی دو نعمت موجود است و بر هر نعمتی شکری واجب.',\n",
       " 'از دست و زبان که بر آید',\n",
       " 'کز عهدهٔ شکرش به در آید',\n",
       " 'اعملوا آل داود شکرا و قلیل من عبادی الشکور',\n",
       " 'بنده همان به که ز تقصیر خویش',\n",
       " 'عذر به درگاه خدای آورد',\n",
       " 'ور نه سزاوار خداوندیش',\n",
       " 'کس نتواند که به جای آورد',\n",
       " 'باران رحمت بی حسابش همه را رسیده و خوان نعمت بی دریغش همه جا کشیده. پردهٔ ناموس بندگان به گناه فاحش ندرد و وظیفهٔ روزی به خطای منکر نبرد.']"
      ]
     },
     "execution_count": 59,
     "metadata": {},
     "output_type": "execute_result"
    }
   ],
   "source": [
    "normalizer = Normalizer()\n",
    "normalized_golestan_poems = []\n",
    "for p in golestan_poems:\n",
    "    normalized_golestan_poems.append(normalizer.normalize(p))\n",
    "normalized_golestan_poems[0:10]"
   ]
  },
  {
   "cell_type": "code",
   "execution_count": 60,
   "metadata": {},
   "outputs": [
    {
     "name": "stdout",
     "output_type": "stream",
     "text": [
      "['بس الله الرحمن الرحیم', 'منت خدا عز جل طاعت قربت شکر اندر مزید نعمت نفس فرو ممد حیات مفرح ذات نفس نعمت موجود نعمت شکر واجب', 'دست زبان آمد#آ', 'کز عهده شکر آمد#آ', 'اعملوا آل داود شکرا قلیل عبادی الشکور', 'بنده تقصیر', 'عذر درگاه خدا', 'ور سزاوار خداوند', 'کس توانست#توان', 'باران رحمت حساب رسیده خوان نعمت دریغ کشیده پرده ناموس بندگان گناه فاحش ندرد وظیفه روز خطا منکر نبرد']\n",
      "[['بس', 'الله', 'الرحمن', 'الرحیم'], ['منت', 'خدا', 'عز', 'جل', 'طاعت', 'قربت', 'شکر', 'اندر', 'مزید', 'نعمت', 'نفس', 'فرو', 'ممد', 'حیات', 'مفرح', 'ذات', 'نفس', 'نعمت', 'موجود', 'نعمت', 'شکر', 'واجب'], ['دست', 'زبان', 'آمد#آ'], ['کز', 'عهده', 'شکر', 'آمد#آ'], ['اعملوا', 'آل', 'داود', 'شکرا', 'قلیل', 'عبادی', 'الشکور'], ['بنده', 'تقصیر'], ['عذر', 'درگاه', 'خدا'], ['ور', 'سزاوار', 'خداوند'], ['کس', 'توانست#توان'], ['باران', 'رحمت', 'حساب', 'رسیده', 'خوان', 'نعمت', 'دریغ', 'کشیده', 'پرده', 'ناموس', 'بندگان', 'گناه', 'فاحش', 'ندرد', 'وظیفه', 'روز', 'خطا', 'منکر', 'نبرد']]\n"
     ]
    }
   ],
   "source": [
    "lemmatizer = Lemmatizer()\n",
    "lemmatize_golestan_poems = []\n",
    "all_cleaned_tokens = []\n",
    "stopwords = [normalizer.normalize(x.strip()) for x in stopwords_list()]+[\"-\", \"/\", \"ز\", '\\ufeff', \"]\", \"[\", \"?\", \"؟\"]\n",
    "\n",
    "mesra_golestan = []\n",
    "mesra_golestan_tokenized = []\n",
    "\n",
    "for p in normalized_golestan_poems:\n",
    "    all_tokens =  word_tokenize(p)\n",
    "    all_tokens_nonstop_g = [t for t in (all_tokens) if t not in stopwords]\n",
    "    all_tokens_nonstop_g = [t for t in (all_tokens_nonstop_g) if len(t)>1]\n",
    "\n",
    "    all_tokens_lemm = []\n",
    "    for i in all_tokens_nonstop_g:\n",
    "        all_tokens_lemm.append(lemmatizer.lemmatize(i))\n",
    "    \n",
    "    mesra_golestan.append(' '.join(all_tokens_lemm))\n",
    "    # print(all_tokens_nonstop[0])\n",
    "    mesra_golestan_tokenized.append(all_tokens_lemm)\n",
    "\n",
    "print(mesra_golestan[0:10])\n",
    "print(mesra_golestan_tokenized[0:10])\n"
   ]
  }
 ],
 "metadata": {
  "interpreter": {
   "hash": "f08154012ddadd8e950e6e9e035c7a7b32c136e7647e9b7c77e02eb723a8bedb"
  },
  "kernelspec": {
   "display_name": "Python 3.8.8 ('base')",
   "language": "python",
   "name": "python3"
  },
  "language_info": {
   "codemirror_mode": {
    "name": "ipython",
    "version": 3
   },
   "file_extension": ".py",
   "mimetype": "text/x-python",
   "name": "python",
   "nbconvert_exporter": "python",
   "pygments_lexer": "ipython3",
   "version": "3.8.8"
  },
  "orig_nbformat": 4
 },
 "nbformat": 4,
 "nbformat_minor": 2
}
